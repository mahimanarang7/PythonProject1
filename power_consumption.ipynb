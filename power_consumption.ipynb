{
 "cells": [
  {
   "cell_type": "code",
   "execution_count": 63,
   "id": "initial_id",
   "metadata": {
    "collapsed": true,
    "ExecuteTime": {
     "end_time": "2024-03-17T14:33:08.710309Z",
     "start_time": "2024-03-17T14:33:08.705365100Z"
    }
   },
   "outputs": [],
   "source": [
    "import pandas as pd\n",
    "import sqlite3\n",
    "from sqlalchemy import create_engine, text\n",
    "from sqlalchemy.orm import sessionmaker\n",
    "from matplotlib import pyplot as plt"
   ]
  },
  {
   "cell_type": "code",
   "execution_count": 64,
   "outputs": [],
   "source": [
    "# DB connection details\n",
    "DB_URI = \"sqlite:///energy.db\"\n",
    "engine = create_engine(DB_URI, pool_pre_ping=True)"
   ],
   "metadata": {
    "collapsed": false,
    "ExecuteTime": {
     "end_time": "2024-03-17T14:33:11.401741100Z",
     "start_time": "2024-03-17T14:33:11.389215500Z"
    }
   },
   "id": "2dde8eef8691f8c6"
  },
  {
   "cell_type": "code",
   "execution_count": 65,
   "outputs": [],
   "source": [
    "SessionLocal = sessionmaker(\n",
    "    autocommit=False,\n",
    "    autoflush=False,\n",
    "    bind=engine,\n",
    ")"
   ],
   "metadata": {
    "collapsed": false,
    "ExecuteTime": {
     "end_time": "2024-03-17T14:33:12.266681100Z",
     "start_time": "2024-03-17T14:33:12.264170800Z"
    }
   },
   "id": "7c89702e13194e11"
  },
  {
   "cell_type": "code",
   "execution_count": 66,
   "outputs": [
    {
     "name": "stderr",
     "output_type": "stream",
     "text": [
      "C:\\Users\\mahim\\AppData\\Local\\Temp\\ipykernel_10656\\45565026.py:2: FutureWarning: In a future version of pandas, parsing datetimes with mixed time zones will raise an error unless `utc=True`. Please specify `utc=True` to opt in to the new behaviour and silence this warning. To create a `Series` with mixed offsets and `object` dtype, please use `apply` and `datetime.datetime.strptime`\n",
      "  df[\"time\"] = pd.to_datetime(df[\"time\"])\n"
     ]
    }
   ],
   "source": [
    "df = pd.read_csv('energy_dataset.csv')\n",
    "df[\"time\"] = pd.to_datetime(df[\"time\"])"
   ],
   "metadata": {
    "collapsed": false,
    "ExecuteTime": {
     "end_time": "2024-03-17T14:33:14.099218800Z",
     "start_time": "2024-03-17T14:33:13.193285800Z"
    }
   },
   "id": "156479fc434966f"
  },
  {
   "cell_type": "code",
   "execution_count": 67,
   "outputs": [
    {
     "data": {
      "text/plain": "time                                           datetime64[ns]\ngeneration biomass                                    float64\ngeneration fossil brown coal/lignite                  float64\ngeneration fossil coal-derived gas                    float64\ngeneration fossil gas                                 float64\ngeneration fossil hard coal                           float64\ngeneration fossil oil                                 float64\ngeneration fossil oil shale                           float64\ngeneration fossil peat                                float64\ngeneration geothermal                                 float64\ngeneration hydro pumped storage aggregated            float64\ngeneration hydro pumped storage consumption           float64\ngeneration hydro run-of-river and poundage            float64\ngeneration hydro water reservoir                      float64\ngeneration marine                                     float64\ngeneration nuclear                                    float64\ngeneration other                                      float64\ngeneration other renewable                            float64\ngeneration solar                                      float64\ngeneration waste                                      float64\ngeneration wind offshore                              float64\ngeneration wind onshore                               float64\nforecast solar day ahead                              float64\nforecast wind offshore eday ahead                     float64\nforecast wind onshore day ahead                       float64\ntotal load actual                                     float64\nprice actual                                          float64\ndtype: object"
     },
     "execution_count": 67,
     "metadata": {},
     "output_type": "execute_result"
    }
   ],
   "source": [
    "# Drop columns that are not needed\n",
    "df.drop(columns='total load forecast', inplace=True)\n",
    "df.drop(columns='price day ahead', inplace=True)\n",
    "#convert time column to datatype timestamp\n",
    "# Convert time value to timestamp\n",
    "df['time'] = pd.to_datetime(df['time'], utc=True).dt.tz_localize(None)\n",
    "df.dtypes"
   ],
   "metadata": {
    "collapsed": false,
    "ExecuteTime": {
     "end_time": "2024-03-17T14:33:29.610141400Z",
     "start_time": "2024-03-17T14:33:29.560114700Z"
    }
   },
   "id": "7e7a51f285240878"
  },
  {
   "cell_type": "code",
   "execution_count": 68,
   "outputs": [
    {
     "data": {
      "text/plain": "                 time  generation biomass  \\\n0 2014-12-31 23:00:00               447.0   \n1 2015-01-01 00:00:00               449.0   \n2 2015-01-01 01:00:00               448.0   \n3 2015-01-01 02:00:00               438.0   \n4 2015-01-01 03:00:00               428.0   \n\n   generation fossil brown coal/lignite  generation fossil coal-derived gas  \\\n0                                 329.0                                 0.0   \n1                                 328.0                                 0.0   \n2                                 323.0                                 0.0   \n3                                 254.0                                 0.0   \n4                                 187.0                                 0.0   \n\n   generation fossil gas  generation fossil hard coal  generation fossil oil  \\\n0                 4844.0                       4821.0                  162.0   \n1                 5196.0                       4755.0                  158.0   \n2                 4857.0                       4581.0                  157.0   \n3                 4314.0                       4131.0                  160.0   \n4                 4130.0                       3840.0                  156.0   \n\n   generation fossil oil shale  generation fossil peat  generation geothermal  \\\n0                          0.0                     0.0                    0.0   \n1                          0.0                     0.0                    0.0   \n2                          0.0                     0.0                    0.0   \n3                          0.0                     0.0                    0.0   \n4                          0.0                     0.0                    0.0   \n\n   ...  generation other renewable  generation solar  generation waste  \\\n0  ...                        73.0              49.0             196.0   \n1  ...                        71.0              50.0             195.0   \n2  ...                        73.0              50.0             196.0   \n3  ...                        75.0              50.0             191.0   \n4  ...                        74.0              42.0             189.0   \n\n   generation wind offshore  generation wind onshore  \\\n0                       0.0                   6378.0   \n1                       0.0                   5890.0   \n2                       0.0                   5461.0   \n3                       0.0                   5238.0   \n4                       0.0                   4935.0   \n\n   forecast solar day ahead  forecast wind offshore eday ahead  \\\n0                      17.0                                NaN   \n1                      16.0                                NaN   \n2                       8.0                                NaN   \n3                       2.0                                NaN   \n4                       9.0                                NaN   \n\n   forecast wind onshore day ahead  total load actual  price actual  \n0                           6436.0            25385.0         65.41  \n1                           5856.0            24382.0         64.92  \n2                           5454.0            22734.0         64.48  \n3                           5151.0            21286.0         59.32  \n4                           4861.0            20264.0         56.04  \n\n[5 rows x 27 columns]",
      "text/html": "<div>\n<style scoped>\n    .dataframe tbody tr th:only-of-type {\n        vertical-align: middle;\n    }\n\n    .dataframe tbody tr th {\n        vertical-align: top;\n    }\n\n    .dataframe thead th {\n        text-align: right;\n    }\n</style>\n<table border=\"1\" class=\"dataframe\">\n  <thead>\n    <tr style=\"text-align: right;\">\n      <th></th>\n      <th>time</th>\n      <th>generation biomass</th>\n      <th>generation fossil brown coal/lignite</th>\n      <th>generation fossil coal-derived gas</th>\n      <th>generation fossil gas</th>\n      <th>generation fossil hard coal</th>\n      <th>generation fossil oil</th>\n      <th>generation fossil oil shale</th>\n      <th>generation fossil peat</th>\n      <th>generation geothermal</th>\n      <th>...</th>\n      <th>generation other renewable</th>\n      <th>generation solar</th>\n      <th>generation waste</th>\n      <th>generation wind offshore</th>\n      <th>generation wind onshore</th>\n      <th>forecast solar day ahead</th>\n      <th>forecast wind offshore eday ahead</th>\n      <th>forecast wind onshore day ahead</th>\n      <th>total load actual</th>\n      <th>price actual</th>\n    </tr>\n  </thead>\n  <tbody>\n    <tr>\n      <th>0</th>\n      <td>2014-12-31 23:00:00</td>\n      <td>447.0</td>\n      <td>329.0</td>\n      <td>0.0</td>\n      <td>4844.0</td>\n      <td>4821.0</td>\n      <td>162.0</td>\n      <td>0.0</td>\n      <td>0.0</td>\n      <td>0.0</td>\n      <td>...</td>\n      <td>73.0</td>\n      <td>49.0</td>\n      <td>196.0</td>\n      <td>0.0</td>\n      <td>6378.0</td>\n      <td>17.0</td>\n      <td>NaN</td>\n      <td>6436.0</td>\n      <td>25385.0</td>\n      <td>65.41</td>\n    </tr>\n    <tr>\n      <th>1</th>\n      <td>2015-01-01 00:00:00</td>\n      <td>449.0</td>\n      <td>328.0</td>\n      <td>0.0</td>\n      <td>5196.0</td>\n      <td>4755.0</td>\n      <td>158.0</td>\n      <td>0.0</td>\n      <td>0.0</td>\n      <td>0.0</td>\n      <td>...</td>\n      <td>71.0</td>\n      <td>50.0</td>\n      <td>195.0</td>\n      <td>0.0</td>\n      <td>5890.0</td>\n      <td>16.0</td>\n      <td>NaN</td>\n      <td>5856.0</td>\n      <td>24382.0</td>\n      <td>64.92</td>\n    </tr>\n    <tr>\n      <th>2</th>\n      <td>2015-01-01 01:00:00</td>\n      <td>448.0</td>\n      <td>323.0</td>\n      <td>0.0</td>\n      <td>4857.0</td>\n      <td>4581.0</td>\n      <td>157.0</td>\n      <td>0.0</td>\n      <td>0.0</td>\n      <td>0.0</td>\n      <td>...</td>\n      <td>73.0</td>\n      <td>50.0</td>\n      <td>196.0</td>\n      <td>0.0</td>\n      <td>5461.0</td>\n      <td>8.0</td>\n      <td>NaN</td>\n      <td>5454.0</td>\n      <td>22734.0</td>\n      <td>64.48</td>\n    </tr>\n    <tr>\n      <th>3</th>\n      <td>2015-01-01 02:00:00</td>\n      <td>438.0</td>\n      <td>254.0</td>\n      <td>0.0</td>\n      <td>4314.0</td>\n      <td>4131.0</td>\n      <td>160.0</td>\n      <td>0.0</td>\n      <td>0.0</td>\n      <td>0.0</td>\n      <td>...</td>\n      <td>75.0</td>\n      <td>50.0</td>\n      <td>191.0</td>\n      <td>0.0</td>\n      <td>5238.0</td>\n      <td>2.0</td>\n      <td>NaN</td>\n      <td>5151.0</td>\n      <td>21286.0</td>\n      <td>59.32</td>\n    </tr>\n    <tr>\n      <th>4</th>\n      <td>2015-01-01 03:00:00</td>\n      <td>428.0</td>\n      <td>187.0</td>\n      <td>0.0</td>\n      <td>4130.0</td>\n      <td>3840.0</td>\n      <td>156.0</td>\n      <td>0.0</td>\n      <td>0.0</td>\n      <td>0.0</td>\n      <td>...</td>\n      <td>74.0</td>\n      <td>42.0</td>\n      <td>189.0</td>\n      <td>0.0</td>\n      <td>4935.0</td>\n      <td>9.0</td>\n      <td>NaN</td>\n      <td>4861.0</td>\n      <td>20264.0</td>\n      <td>56.04</td>\n    </tr>\n  </tbody>\n</table>\n<p>5 rows × 27 columns</p>\n</div>"
     },
     "execution_count": 68,
     "metadata": {},
     "output_type": "execute_result"
    }
   ],
   "source": [
    "df.head()"
   ],
   "metadata": {
    "collapsed": false,
    "ExecuteTime": {
     "end_time": "2024-03-17T14:33:32.430073200Z",
     "start_time": "2024-03-17T14:33:32.424092200Z"
    }
   },
   "id": "cbcf1a156dc14e98"
  },
  {
   "cell_type": "code",
   "execution_count": 0,
   "outputs": [],
   "source": [
    "# Create table\n",
    "'''\n",
    "create_table_query = text(\n",
    "\"\"\"\n",
    "    CREATE TABLE \"power_consumption\" (\n",
    "    \"Datetime\"\ttimestamp,\n",
    "    \"Temperature\" float,\n",
    "    \"Humidity\" float,\n",
    "    \"WindSpeed\" float,\n",
    "    \"GeneralDiffuseFlows\" float,\n",
    "    \"DiffuseFlows\" float,\n",
    "    \"PowerConsumption\" float\n",
    "    );\n",
    "\"\"\"\n",
    ")\n",
    "'''"
   ],
   "metadata": {
    "collapsed": false
   },
   "id": "cdd526336b68cecc"
  },
  {
   "cell_type": "code",
   "execution_count": 72,
   "outputs": [],
   "source": [
    "# Create table schema based on DataFrame columns\n",
    "textstr = \"CREATE TABLE IF NOT EXISTS energy_load (\"\n",
    "for column in df.columns:\n",
    "    # Determine the data type of the column\n",
    "    data_type = df[column].dtype\n",
    "    column = column.replace(\" \", \"_\")  # Remove spaces from column names\n",
    "    column = column.replace(\"/\", \"_\")  # Remove hyphens from column names\n",
    "    column = column.replace(\"(\", \"\")  # Remove opening parentheses from column names\n",
    "    column = column.replace(\")\", \"\")  # Remove closing parentheses from column names\n",
    "    column = column.replace(\"%\", \"Pct\")  # Remove percentage sign and replace with \"Pct\"    \n",
    "    column = column.replace(\"-\", \"_\")  # Remove hyphens from column names\n",
    "    \n",
    "    # Map Pandas data types to SQLite data types\n",
    "    if str(data_type) == 'datetime64[ns]':\n",
    "        sqlite_data_type = 'TIMESTAMP'\n",
    "    elif str(data_type) == 'object':\n",
    "        sqlite_data_type = 'TEXT'\n",
    "    elif str(data_type) == 'float64':\n",
    "        sqlite_data_type = 'FLOAT'\n",
    "    else:\n",
    "        sqlite_data_type = 'TEXT'  # Default to TEXT if data type is not recognized\n",
    "    \n",
    "    # Add column and data type to the table schema\n",
    "    textstr += f\"{column} {sqlite_data_type}, \"\n",
    "\n",
    "# Remove trailing comma and space, then close the table schema\n",
    "textstr = textstr[:-2] + \")\"\n"
   ],
   "metadata": {
    "collapsed": false,
    "ExecuteTime": {
     "end_time": "2024-03-17T14:36:53.101112300Z",
     "start_time": "2024-03-17T14:36:53.079387500Z"
    }
   },
   "id": "b36361b073c198db"
  },
  {
   "cell_type": "code",
   "execution_count": 73,
   "outputs": [
    {
     "data": {
      "text/plain": "'CREATE TABLE IF NOT EXISTS energy_load (time TIMESTAMP, generation_biomass FLOAT, generation_fossil_brown_coal_lignite FLOAT, generation_fossil_coal_derived_gas FLOAT, generation_fossil_gas FLOAT, generation_fossil_hard_coal FLOAT, generation_fossil_oil FLOAT, generation_fossil_oil_shale FLOAT, generation_fossil_peat FLOAT, generation_geothermal FLOAT, generation_hydro_pumped_storage_aggregated FLOAT, generation_hydro_pumped_storage_consumption FLOAT, generation_hydro_run_of_river_and_poundage FLOAT, generation_hydro_water_reservoir FLOAT, generation_marine FLOAT, generation_nuclear FLOAT, generation_other FLOAT, generation_other_renewable FLOAT, generation_solar FLOAT, generation_waste FLOAT, generation_wind_offshore FLOAT, generation_wind_onshore FLOAT, forecast_solar_day_ahead FLOAT, forecast_wind_offshore_eday_ahead FLOAT, forecast_wind_onshore_day_ahead FLOAT, total_load_actual FLOAT, price_actual FLOAT)'"
     },
     "execution_count": 73,
     "metadata": {},
     "output_type": "execute_result"
    }
   ],
   "source": [
    "textstr"
   ],
   "metadata": {
    "collapsed": false,
    "ExecuteTime": {
     "end_time": "2024-03-17T14:36:54.419655700Z",
     "start_time": "2024-03-17T14:36:54.408047700Z"
    }
   },
   "id": "213f87d6f39c131b"
  },
  {
   "cell_type": "code",
   "execution_count": 74,
   "outputs": [],
   "source": [
    "table_schema = text(textstr)\n",
    "# Create table\n",
    "with SessionLocal() as session:\n",
    "    session.execute(table_schema)"
   ],
   "metadata": {
    "collapsed": false,
    "ExecuteTime": {
     "end_time": "2024-03-17T14:36:56.817694400Z",
     "start_time": "2024-03-17T14:36:56.811755700Z"
    }
   },
   "id": "c52a7b90c57152cb"
  },
  {
   "cell_type": "code",
   "execution_count": 75,
   "outputs": [],
   "source": [
    "# Insert data into table\n",
    "with SessionLocal() as session:\n",
    "    df.to_sql(\"energy_load\", con=session.get_bind(), if_exists=\"append\", index=False)\n",
    "    session.commit()"
   ],
   "metadata": {
    "collapsed": false,
    "ExecuteTime": {
     "end_time": "2024-03-17T14:38:01.794563800Z",
     "start_time": "2024-03-17T14:38:01.342110400Z"
    }
   },
   "id": "8eabe7810cdcfd4b"
  },
  {
   "cell_type": "code",
   "execution_count": 85,
   "outputs": [],
   "source": [
    "\n",
    "# Now we have already filled the table, we can query it\n",
    "with SessionLocal() as session:\n",
    "    query = text(\n",
    "        \"\"\"\n",
    "        SELECT *\n",
    "        FROM energy_load\n",
    "        \"\"\"\n",
    "    )\n",
    "    data = session.execute(query)\n"
   ],
   "metadata": {
    "collapsed": false,
    "ExecuteTime": {
     "end_time": "2024-03-18T00:26:48.939563900Z",
     "start_time": "2024-03-18T00:26:48.861024500Z"
    }
   },
   "id": "143bc7c9a912052a"
  },
  {
   "cell_type": "code",
   "execution_count": 86,
   "outputs": [
    {
     "name": "stdout",
     "output_type": "stream",
     "text": [
      "                         time  generation biomass  \\\n",
      "0  2014-12-31 23:00:00.000000               447.0   \n",
      "1  2015-01-01 00:00:00.000000               449.0   \n",
      "2  2015-01-01 01:00:00.000000               448.0   \n",
      "3  2015-01-01 02:00:00.000000               438.0   \n",
      "4  2015-01-01 03:00:00.000000               428.0   \n",
      "\n",
      "   generation fossil brown coal/lignite  generation fossil coal-derived gas  \\\n",
      "0                                 329.0                                 0.0   \n",
      "1                                 328.0                                 0.0   \n",
      "2                                 323.0                                 0.0   \n",
      "3                                 254.0                                 0.0   \n",
      "4                                 187.0                                 0.0   \n",
      "\n",
      "   generation fossil gas  generation fossil hard coal  generation fossil oil  \\\n",
      "0                 4844.0                       4821.0                  162.0   \n",
      "1                 5196.0                       4755.0                  158.0   \n",
      "2                 4857.0                       4581.0                  157.0   \n",
      "3                 4314.0                       4131.0                  160.0   \n",
      "4                 4130.0                       3840.0                  156.0   \n",
      "\n",
      "   generation fossil oil shale  generation fossil peat  generation geothermal  \\\n",
      "0                          0.0                     0.0                    0.0   \n",
      "1                          0.0                     0.0                    0.0   \n",
      "2                          0.0                     0.0                    0.0   \n",
      "3                          0.0                     0.0                    0.0   \n",
      "4                          0.0                     0.0                    0.0   \n",
      "\n",
      "   ... generation other renewable  generation solar  generation waste  \\\n",
      "0  ...                       73.0              49.0             196.0   \n",
      "1  ...                       71.0              50.0             195.0   \n",
      "2  ...                       73.0              50.0             196.0   \n",
      "3  ...                       75.0              50.0             191.0   \n",
      "4  ...                       74.0              42.0             189.0   \n",
      "\n",
      "   generation wind offshore  generation wind onshore  \\\n",
      "0                       0.0                   6378.0   \n",
      "1                       0.0                   5890.0   \n",
      "2                       0.0                   5461.0   \n",
      "3                       0.0                   5238.0   \n",
      "4                       0.0                   4935.0   \n",
      "\n",
      "   forecast solar day ahead  forecast wind offshore eday ahead  \\\n",
      "0                      17.0                               None   \n",
      "1                      16.0                               None   \n",
      "2                       8.0                               None   \n",
      "3                       2.0                               None   \n",
      "4                       9.0                               None   \n",
      "\n",
      "   forecast wind onshore day ahead  total load actual  price actual  \n",
      "0                           6436.0            25385.0         65.41  \n",
      "1                           5856.0            24382.0         64.92  \n",
      "2                           5454.0            22734.0         64.48  \n",
      "3                           5151.0            21286.0         59.32  \n",
      "4                           4861.0            20264.0         56.04  \n",
      "\n",
      "[5 rows x 27 columns]\n"
     ]
    }
   ],
   "source": [
    "    df = pd.DataFrame(data)\n",
    "    print(df.head())"
   ],
   "metadata": {
    "collapsed": false,
    "ExecuteTime": {
     "end_time": "2024-03-18T00:26:52.885141200Z",
     "start_time": "2024-03-18T00:26:51.193292100Z"
    }
   },
   "id": "d77dd67314689477"
  },
  {
   "cell_type": "code",
   "execution_count": 81,
   "outputs": [
    {
     "data": {
      "text/plain": "<Figure size 640x480 with 1 Axes>",
      "image/png": "[encoded data removed]"
     },
     "metadata": {},
     "output_type": "display_data"
    }
   ],
   "source": [
    "# Now we can plot the data using dataframe df\n",
    "plt.plot(df[\"time\"], df[\"price actual\"])\n",
    "plt.show()\n"
   ],
   "metadata": {
    "collapsed": false,
    "ExecuteTime": {
     "end_time": "2024-03-17T14:49:17.380237400Z",
     "start_time": "2024-03-17T14:45:31.407866100Z"
    }
   },
   "id": "9feeb3d18819f251"
  },
  {
   "cell_type": "code",
   "execution_count": 87,
   "outputs": [
    {
     "data": {
      "text/plain": "(35064, 27)"
     },
     "execution_count": 87,
     "metadata": {},
     "output_type": "execute_result"
    }
   ],
   "source": [
    "df.shape"
   ],
   "metadata": {
    "collapsed": false,
    "ExecuteTime": {
     "end_time": "2024-03-18T00:27:01.282385400Z",
     "start_time": "2024-03-18T00:27:01.269451100Z"
    }
   },
   "id": "a9c1321d97300d53"
  },
  {
   "cell_type": "code",
   "execution_count": 89,
   "outputs": [
    {
     "data": {
      "text/plain": "time                                           35064\ngeneration biomass                               423\ngeneration fossil brown coal/lignite             956\ngeneration fossil coal-derived gas                 1\ngeneration fossil gas                           8297\ngeneration fossil hard coal                     7266\ngeneration fossil oil                            321\ngeneration fossil oil shale                        1\ngeneration fossil peat                             1\ngeneration geothermal                              1\ngeneration hydro pumped storage aggregated         0\ngeneration hydro pumped storage consumption     3311\ngeneration hydro run-of-river and poundage      1684\ngeneration hydro water reservoir                7029\ngeneration marine                                  1\ngeneration nuclear                              2388\ngeneration other                                 103\ngeneration other renewable                        78\ngeneration solar                                5331\ngeneration waste                                 262\ngeneration wind offshore                           1\ngeneration wind onshore                        11465\nforecast solar day ahead                        5356\nforecast wind offshore eday ahead                  0\nforecast wind onshore day ahead                11332\ntotal load actual                              15127\nprice actual                                    6653\ndtype: int64"
     },
     "execution_count": 89,
     "metadata": {},
     "output_type": "execute_result"
    }
   ],
   "source": [
    "# check the distinct count of values for each column\n",
    "df.nunique()\n"
   ],
   "metadata": {
    "collapsed": false,
    "ExecuteTime": {
     "end_time": "2024-03-18T12:48:49.127533400Z",
     "start_time": "2024-03-18T12:48:49.046412900Z"
    }
   },
   "id": "239439c1e5cd7666"
  },
  {
   "cell_type": "code",
   "execution_count": 90,
   "outputs": [],
   "source": [
    "# remove the columns where the distinct count is 1\n",
    "df_refined = df.loc[:, df.nunique() > 1]"
   ],
   "metadata": {
    "collapsed": false,
    "ExecuteTime": {
     "end_time": "2024-03-18T12:49:49.275709800Z",
     "start_time": "2024-03-18T12:49:49.236286200Z"
    }
   },
   "id": "3a3a737c75c2889d"
  },
  {
   "cell_type": "code",
   "execution_count": 91,
   "outputs": [
    {
     "data": {
      "text/plain": "(35064, 19)"
     },
     "execution_count": 91,
     "metadata": {},
     "output_type": "execute_result"
    }
   ],
   "source": [
    "df_refined.shape"
   ],
   "metadata": {
    "collapsed": false,
    "ExecuteTime": {
     "end_time": "2024-03-18T12:49:56.214521600Z",
     "start_time": "2024-03-18T12:49:56.198624200Z"
    }
   },
   "id": "862e3abc3507e03f"
  },
  {
   "cell_type": "code",
   "execution_count": 95,
   "outputs": [
    {
     "data": {
      "text/plain": "(35018, 19)"
     },
     "execution_count": 95,
     "metadata": {},
     "output_type": "execute_result"
    }
   ],
   "source": [
    "# remove the rows where the values are null\n",
    "df_refined1 = df_refined.dropna()\n",
    "df_refined1.shape"
   ],
   "metadata": {
    "collapsed": false,
    "ExecuteTime": {
     "end_time": "2024-03-18T13:01:54.376092800Z",
     "start_time": "2024-03-18T13:01:54.365242500Z"
    }
   },
   "id": "90f8e416298175a9"
  },
  {
   "cell_type": "code",
   "execution_count": 96,
   "outputs": [
    {
     "data": {
      "text/plain": "                         time  generation biomass  \\\n0  2014-12-31 23:00:00.000000               447.0   \n1  2015-01-01 00:00:00.000000               449.0   \n2  2015-01-01 01:00:00.000000               448.0   \n3  2015-01-01 02:00:00.000000               438.0   \n4  2015-01-01 03:00:00.000000               428.0   \n\n   generation fossil brown coal/lignite  generation fossil gas  \\\n0                                 329.0                 4844.0   \n1                                 328.0                 5196.0   \n2                                 323.0                 4857.0   \n3                                 254.0                 4314.0   \n4                                 187.0                 4130.0   \n\n   generation fossil hard coal  generation fossil oil  \\\n0                       4821.0                  162.0   \n1                       4755.0                  158.0   \n2                       4581.0                  157.0   \n3                       4131.0                  160.0   \n4                       3840.0                  156.0   \n\n   generation hydro pumped storage consumption  \\\n0                                        863.0   \n1                                        920.0   \n2                                       1164.0   \n3                                       1503.0   \n4                                       1826.0   \n\n   generation hydro run-of-river and poundage  \\\n0                                      1051.0   \n1                                      1009.0   \n2                                       973.0   \n3                                       949.0   \n4                                       953.0   \n\n   generation hydro water reservoir  generation nuclear  generation other  \\\n0                            1899.0              7096.0              43.0   \n1                            1658.0              7096.0              43.0   \n2                            1371.0              7099.0              43.0   \n3                             779.0              7098.0              43.0   \n4                             720.0              7097.0              43.0   \n\n   generation other renewable  generation solar  generation waste  \\\n0                        73.0              49.0             196.0   \n1                        71.0              50.0             195.0   \n2                        73.0              50.0             196.0   \n3                        75.0              50.0             191.0   \n4                        74.0              42.0             189.0   \n\n   generation wind onshore  forecast solar day ahead  \\\n0                   6378.0                      17.0   \n1                   5890.0                      16.0   \n2                   5461.0                       8.0   \n3                   5238.0                       2.0   \n4                   4935.0                       9.0   \n\n   forecast wind onshore day ahead  total load actual  price actual  \n0                           6436.0            25385.0         65.41  \n1                           5856.0            24382.0         64.92  \n2                           5454.0            22734.0         64.48  \n3                           5151.0            21286.0         59.32  \n4                           4861.0            20264.0         56.04  ",
      "text/html": "<div>\n<style scoped>\n    .dataframe tbody tr th:only-of-type {\n        vertical-align: middle;\n    }\n\n    .dataframe tbody tr th {\n        vertical-align: top;\n    }\n\n    .dataframe thead th {\n        text-align: right;\n    }\n</style>\n<table border=\"1\" class=\"dataframe\">\n  <thead>\n    <tr style=\"text-align: right;\">\n      <th></th>\n      <th>time</th>\n      <th>generation biomass</th>\n      <th>generation fossil brown coal/lignite</th>\n      <th>generation fossil gas</th>\n      <th>generation fossil hard coal</th>\n      <th>generation fossil oil</th>\n      <th>generation hydro pumped storage consumption</th>\n      <th>generation hydro run-of-river and poundage</th>\n      <th>generation hydro water reservoir</th>\n      <th>generation nuclear</th>\n      <th>generation other</th>\n      <th>generation other renewable</th>\n      <th>generation solar</th>\n      <th>generation waste</th>\n      <th>generation wind onshore</th>\n      <th>forecast solar day ahead</th>\n      <th>forecast wind onshore day ahead</th>\n      <th>total load actual</th>\n      <th>price actual</th>\n    </tr>\n  </thead>\n  <tbody>\n    <tr>\n      <th>0</th>\n      <td>2014-12-31 23:00:00.000000</td>\n      <td>447.0</td>\n      <td>329.0</td>\n      <td>4844.0</td>\n      <td>4821.0</td>\n      <td>162.0</td>\n      <td>863.0</td>\n      <td>1051.0</td>\n      <td>1899.0</td>\n      <td>7096.0</td>\n      <td>43.0</td>\n      <td>73.0</td>\n      <td>49.0</td>\n      <td>196.0</td>\n      <td>6378.0</td>\n      <td>17.0</td>\n      <td>6436.0</td>\n      <td>25385.0</td>\n      <td>65.41</td>\n    </tr>\n    <tr>\n      <th>1</th>\n      <td>2015-01-01 00:00:00.000000</td>\n      <td>449.0</td>\n      <td>328.0</td>\n      <td>5196.0</td>\n      <td>4755.0</td>\n      <td>158.0</td>\n      <td>920.0</td>\n      <td>1009.0</td>\n      <td>1658.0</td>\n      <td>7096.0</td>\n      <td>43.0</td>\n      <td>71.0</td>\n      <td>50.0</td>\n      <td>195.0</td>\n      <td>5890.0</td>\n      <td>16.0</td>\n      <td>5856.0</td>\n      <td>24382.0</td>\n      <td>64.92</td>\n    </tr>\n    <tr>\n      <th>2</th>\n      <td>2015-01-01 01:00:00.000000</td>\n      <td>448.0</td>\n      <td>323.0</td>\n      <td>4857.0</td>\n      <td>4581.0</td>\n      <td>157.0</td>\n      <td>1164.0</td>\n      <td>973.0</td>\n      <td>1371.0</td>\n      <td>7099.0</td>\n      <td>43.0</td>\n      <td>73.0</td>\n      <td>50.0</td>\n      <td>196.0</td>\n      <td>5461.0</td>\n      <td>8.0</td>\n      <td>5454.0</td>\n      <td>22734.0</td>\n      <td>64.48</td>\n    </tr>\n    <tr>\n      <th>3</th>\n      <td>2015-01-01 02:00:00.000000</td>\n      <td>438.0</td>\n      <td>254.0</td>\n      <td>4314.0</td>\n      <td>4131.0</td>\n      <td>160.0</td>\n      <td>1503.0</td>\n      <td>949.0</td>\n      <td>779.0</td>\n      <td>7098.0</td>\n      <td>43.0</td>\n      <td>75.0</td>\n      <td>50.0</td>\n      <td>191.0</td>\n      <td>5238.0</td>\n      <td>2.0</td>\n      <td>5151.0</td>\n      <td>21286.0</td>\n      <td>59.32</td>\n    </tr>\n    <tr>\n      <th>4</th>\n      <td>2015-01-01 03:00:00.000000</td>\n      <td>428.0</td>\n      <td>187.0</td>\n      <td>4130.0</td>\n      <td>3840.0</td>\n      <td>156.0</td>\n      <td>1826.0</td>\n      <td>953.0</td>\n      <td>720.0</td>\n      <td>7097.0</td>\n      <td>43.0</td>\n      <td>74.0</td>\n      <td>42.0</td>\n      <td>189.0</td>\n      <td>4935.0</td>\n      <td>9.0</td>\n      <td>4861.0</td>\n      <td>20264.0</td>\n      <td>56.04</td>\n    </tr>\n  </tbody>\n</table>\n</div>"
     },
     "execution_count": 96,
     "metadata": {},
     "output_type": "execute_result"
    }
   ],
   "source": [
    "df_refined1.head()"
   ],
   "metadata": {
    "collapsed": false,
    "ExecuteTime": {
     "end_time": "2024-03-18T13:02:55.702191200Z",
     "start_time": "2024-03-18T13:02:55.688175600Z"
    }
   },
   "id": "985e6b114afdf15c"
  },
  {
   "cell_type": "code",
   "execution_count": 98,
   "outputs": [
    {
     "data": {
      "text/plain": "                         time  generation biomass  \\\n0  2014-12-31 23:00:00.000000            0.744076   \n1  2015-01-01 00:00:00.000000            0.767522   \n2  2015-01-01 01:00:00.000000            0.755799   \n3  2015-01-01 02:00:00.000000            0.638568   \n4  2015-01-01 03:00:00.000000            0.521338   \n\n   generation fossil brown coal/lignite  generation fossil gas  \\\n0                             -0.335913              -0.353539   \n1                             -0.338733              -0.193685   \n2                             -0.352834              -0.347635   \n3                             -0.547417              -0.594228   \n4                             -0.736361              -0.677788   \n\n   generation fossil hard coal  generation fossil oil  \\\n0                     0.288255              -2.598344   \n1                     0.254606              -2.674579   \n2                     0.165893              -2.693638   \n3                    -0.063536              -2.636462   \n4                    -0.211900              -2.712697   \n\n   generation hydro pumped storage consumption  \\\n0                                     0.488669   \n1                                     0.560590   \n2                                     0.868463   \n3                                     1.296204   \n4                                     1.703757   \n\n   generation hydro run-of-river and poundage  \\\n0                                    0.196928   \n1                                    0.092124   \n2                                    0.002291   \n3                                   -0.057597   \n4                                   -0.047616   \n\n   generation hydro water reservoir  generation nuclear  generation other  \\\n0                         -0.384482            0.992503         -0.851813   \n1                         -0.515824            0.992503         -0.851813   \n2                         -0.672234            0.996082         -0.851813   \n3                         -0.994866            0.994889         -0.851813   \n4                         -1.027020            0.993696         -0.851813   \n\n   generation other renewable  generation solar  generation waste  \\\n0                   -0.899586         -0.823695         -1.465864   \n1                   -1.041797         -0.823100         -1.485807   \n2                   -0.899586         -0.823100         -1.465864   \n3                   -0.757375         -0.823100         -1.565580   \n4                   -0.828481         -0.827861         -1.605466   \n\n   generation wind onshore  forecast solar day ahead  \\\n0                 0.283782                 -0.847590   \n1                 0.131924                 -0.848186   \n2                -0.001574                 -0.852954   \n3                -0.070968                 -0.856530   \n4                -0.165256                 -0.852358   \n\n   forecast wind onshore day ahead  total load actual  price actual  \n0                         0.303540          -0.724039      0.530148  \n1                         0.120943          -0.943317      0.495616  \n2                        -0.005616          -1.303606      0.464608  \n3                        -0.101007          -1.620170      0.100969  \n4                        -0.192305          -1.843602     -0.130182  ",
      "text/html": "<div>\n<style scoped>\n    .dataframe tbody tr th:only-of-type {\n        vertical-align: middle;\n    }\n\n    .dataframe tbody tr th {\n        vertical-align: top;\n    }\n\n    .dataframe thead th {\n        text-align: right;\n    }\n</style>\n<table border=\"1\" class=\"dataframe\">\n  <thead>\n    <tr style=\"text-align: right;\">\n      <th></th>\n      <th>time</th>\n      <th>generation biomass</th>\n      <th>generation fossil brown coal/lignite</th>\n      <th>generation fossil gas</th>\n      <th>generation fossil hard coal</th>\n      <th>generation fossil oil</th>\n      <th>generation hydro pumped storage consumption</th>\n      <th>generation hydro run-of-river and poundage</th>\n      <th>generation hydro water reservoir</th>\n      <th>generation nuclear</th>\n      <th>generation other</th>\n      <th>generation other renewable</th>\n      <th>generation solar</th>\n      <th>generation waste</th>\n      <th>generation wind onshore</th>\n      <th>forecast solar day ahead</th>\n      <th>forecast wind onshore day ahead</th>\n      <th>total load actual</th>\n      <th>price actual</th>\n    </tr>\n  </thead>\n  <tbody>\n    <tr>\n      <th>0</th>\n      <td>2014-12-31 23:00:00.000000</td>\n      <td>0.744076</td>\n      <td>-0.335913</td>\n      <td>-0.353539</td>\n      <td>0.288255</td>\n      <td>-2.598344</td>\n      <td>0.488669</td>\n      <td>0.196928</td>\n      <td>-0.384482</td>\n      <td>0.992503</td>\n      <td>-0.851813</td>\n      <td>-0.899586</td>\n      <td>-0.823695</td>\n      <td>-1.465864</td>\n      <td>0.283782</td>\n      <td>-0.847590</td>\n      <td>0.303540</td>\n      <td>-0.724039</td>\n      <td>0.530148</td>\n    </tr>\n    <tr>\n      <th>1</th>\n      <td>2015-01-01 00:00:00.000000</td>\n      <td>0.767522</td>\n      <td>-0.338733</td>\n      <td>-0.193685</td>\n      <td>0.254606</td>\n      <td>-2.674579</td>\n      <td>0.560590</td>\n      <td>0.092124</td>\n      <td>-0.515824</td>\n      <td>0.992503</td>\n      <td>-0.851813</td>\n      <td>-1.041797</td>\n      <td>-0.823100</td>\n      <td>-1.485807</td>\n      <td>0.131924</td>\n      <td>-0.848186</td>\n      <td>0.120943</td>\n      <td>-0.943317</td>\n      <td>0.495616</td>\n    </tr>\n    <tr>\n      <th>2</th>\n      <td>2015-01-01 01:00:00.000000</td>\n      <td>0.755799</td>\n      <td>-0.352834</td>\n      <td>-0.347635</td>\n      <td>0.165893</td>\n      <td>-2.693638</td>\n      <td>0.868463</td>\n      <td>0.002291</td>\n      <td>-0.672234</td>\n      <td>0.996082</td>\n      <td>-0.851813</td>\n      <td>-0.899586</td>\n      <td>-0.823100</td>\n      <td>-1.465864</td>\n      <td>-0.001574</td>\n      <td>-0.852954</td>\n      <td>-0.005616</td>\n      <td>-1.303606</td>\n      <td>0.464608</td>\n    </tr>\n    <tr>\n      <th>3</th>\n      <td>2015-01-01 02:00:00.000000</td>\n      <td>0.638568</td>\n      <td>-0.547417</td>\n      <td>-0.594228</td>\n      <td>-0.063536</td>\n      <td>-2.636462</td>\n      <td>1.296204</td>\n      <td>-0.057597</td>\n      <td>-0.994866</td>\n      <td>0.994889</td>\n      <td>-0.851813</td>\n      <td>-0.757375</td>\n      <td>-0.823100</td>\n      <td>-1.565580</td>\n      <td>-0.070968</td>\n      <td>-0.856530</td>\n      <td>-0.101007</td>\n      <td>-1.620170</td>\n      <td>0.100969</td>\n    </tr>\n    <tr>\n      <th>4</th>\n      <td>2015-01-01 03:00:00.000000</td>\n      <td>0.521338</td>\n      <td>-0.736361</td>\n      <td>-0.677788</td>\n      <td>-0.211900</td>\n      <td>-2.712697</td>\n      <td>1.703757</td>\n      <td>-0.047616</td>\n      <td>-1.027020</td>\n      <td>0.993696</td>\n      <td>-0.851813</td>\n      <td>-0.828481</td>\n      <td>-0.827861</td>\n      <td>-1.605466</td>\n      <td>-0.165256</td>\n      <td>-0.852358</td>\n      <td>-0.192305</td>\n      <td>-1.843602</td>\n      <td>-0.130182</td>\n    </tr>\n  </tbody>\n</table>\n</div>"
     },
     "execution_count": 98,
     "metadata": {},
     "output_type": "execute_result"
    }
   ],
   "source": [
    "# scale the features excluding the time column\n",
    "\n",
    "from sklearn.preprocessing import StandardScaler\n",
    "scaler = StandardScaler()\n",
    "df_refined1_scaled = df_refined1.copy()\n",
    "df_refined1_scaled.iloc[:, 1:] = scaler.fit_transform(df_refined1_scaled.iloc[:, 1:])\n",
    "df_refined1_scaled.head()"
   ],
   "metadata": {
    "collapsed": false,
    "ExecuteTime": {
     "end_time": "2024-03-18T13:05:38.896918700Z",
     "start_time": "2024-03-18T13:05:38.867298Z"
    }
   },
   "id": "25374de571417d54"
  },
  {
   "cell_type": "code",
   "execution_count": 99,
   "outputs": [
    {
     "data": {
      "text/plain": "<Figure size 640x480 with 1 Axes>",
      "image/png": "[encoded data removed]"
     },
     "metadata": {},
     "output_type": "display_data"
    }
   ],
   "source": [
    "# plot the chart for time and price actual\n",
    "plt.plot(df_refined1_scaled[\"time\"], df_refined1_scaled[\"price actual\"])\n",
    "plt.show()"
   ],
   "metadata": {
    "collapsed": false,
    "ExecuteTime": {
     "end_time": "2024-03-18T13:09:39.073989500Z",
     "start_time": "2024-03-18T13:06:22.983521Z"
    }
   },
   "id": "4ef5c10a8efed899"
  },
  {
   "cell_type": "code",
   "execution_count": null,
   "outputs": [],
   "source": [],
   "metadata": {
    "collapsed": false
   },
   "id": "31a0054c41b5b811"
  }
 ],
 "metadata": {
  "kernelspec": {
   "display_name": "Python 3",
   "language": "python",
   "name": "python3"
  },
  "language_info": {
   "codemirror_mode": {
    "name": "ipython",
    "version": 2
   },
   "file_extension": ".py",
   "mimetype": "text/x-python",
   "name": "python",
   "nbconvert_exporter": "python",
   "pygments_lexer": "ipython2",
   "version": "2.7.6"
  }
 },
 "nbformat": 4,
 "nbformat_minor": 5
}
